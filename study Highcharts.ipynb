{
 "cells": [
  {
   "cell_type": "markdown",
   "metadata": {},
   "source": [
    "##  "
   ]
  },
  {
   "cell_type": "code",
   "execution_count": 10,
   "metadata": {
    "collapsed": true
   },
   "outputs": [],
   "source": [
    "%matplotlib inline"
   ]
  },
  {
   "cell_type": "markdown",
   "metadata": {},
   "source": [
    "# matplot.pyplotの場合\n",
    "\n",
    "---\n",
    "\n",
    "グラフ描画ライブラリmatplotは高速に描画できますが\n",
    "あまりグラフがきれいで無く、表の種類にも限りがあります。"
   ]
  },
  {
   "cell_type": "code",
   "execution_count": 11,
   "metadata": {},
   "outputs": [
    {
     "data": {
      "image/png": "[encoded data removed]",
      "text/plain": [
       "<matplotlib.figure.Figure at 0xbf55170>"
      ]
     },
     "metadata": {},
     "output_type": "display_data"
    }
   ],
   "source": [
    "import numpy as np\n",
    "import matplotlib.pylab as plt\n",
    "\n",
    "\n",
    "def sigmoid(x):\n",
    "    return 1 / (1 + np.exp(-x))    \n",
    "\n",
    "X = np.arange(-5.0, 5.0, 0.1)\n",
    "Y = sigmoid(X)\n",
    "plt.plot(X, Y)\n",
    "plt.ylim(-0.1, 1.1)\n",
    "plt.show()\n"
   ]
  },
  {
   "cell_type": "markdown",
   "metadata": {},
   "source": [
    "# Highchartsの場合\n",
    "\n",
    "---\n",
    "\n",
    "もともとはjavascript用のライブラリですが、画像描画速度が早く、きれいなグラフを生成できます。\n",
    "ライブラリのインストールについては\n",
    "\n",
    "> pip install highcharts \n",
    "\n",
    "でインストール出来ます。\n",
    "\n",
    "pandasを利用する場合は\n",
    "\n",
    "> pip install pandas-highcharts\n",
    "\n",
    "でデータ・セットの可視化が可能です。`"
   ]
  },
  {
   "cell_type": "code",
   "execution_count": 12,
   "metadata": {},
   "outputs": [
    {
     "data": {
      "text/html": [
       "<iframe style=\"border:0;outline:none;overflow:hidden\" srcdoc=\"&lt;!DOCTYPE html&gt; &lt;html lang=&quot;en&quot;&gt; &lt;head&gt; &lt;meta charset=&quot;utf-8&quot; /&gt; &lt;link href=&quot;https://www.highcharts.com/highslide/highslide.css&quot; rel=&quot;stylesheet&quot; /&gt; &lt;script type=&quot;text/javascript&quot; src=&quot;https://ajax.googleapis.com/ajax/libs/jquery/1.9.1/jquery.min.js&quot;&gt;&lt;/script&gt; &lt;script type=&quot;text/javascript&quot; src=&quot;https://code.highcharts.com/highcharts.js&quot;&gt;&lt;/script&gt; &lt;script type=&quot;text/javascript&quot; src=&quot;https://code.highcharts.com/highcharts-more.js&quot;&gt;&lt;/script&gt; &lt;script type=&quot;text/javascript&quot; src=&quot;https://code.highcharts.com/modules/heatmap.js&quot;&gt;&lt;/script&gt; &lt;script type=&quot;text/javascript&quot; src=&quot;https://code.highcharts.com/modules/exporting.js&quot;&gt;&lt;/script&gt; &lt;/head&gt; &lt;body style=&quot;margin:0;padding:0&quot;&gt; &lt;div id=&quot;container&quot; style=&quot;width:450px;height:450px;&quot;&gt;Loading....&lt;/div&gt; &lt;script&gt; $(function(){ Highcharts.setOptions({&quot;global&quot;: {}, &quot;lang&quot;: {}}); var option = {&quot;chart&quot;: {&quot;renderTo&quot;: &quot;container&quot;, &quot;width&quot;: 450, &quot;height&quot;: 450}, &quot;colors&quot;: {}, &quot;credits&quot;: {&quot;enabled&quot;: false}, &quot;drilldown&quot;: {}, &quot;exporting&quot;: {}, &quot;labels&quot;: {}, &quot;legend&quot;: {}, &quot;loading&quot;: {}, &quot;navigation&quot;: {}, &quot;pane&quot;: {}, &quot;plotOptions&quot;: {}, &quot;series&quot;: {}, &quot;subtitle&quot;: {&quot;text&quot;: &quot;\\u30b5\\u30d6\\u30bf\\u30a4\\u30c8\\u30eb&quot;}, &quot;title&quot;: {&quot;text&quot;: &quot;\\u30e1\\u30a4\\u30f3\\u30bf\\u30a4\\u30c8\\u30eb&quot;}, &quot;tooltip&quot;: {}, &quot;xAxis&quot;: {&quot;title&quot;: {&quot;text&quot;: &quot;X\\u8ef8&quot;}}, &quot;yAxis&quot;: {&quot;title&quot;: {&quot;text&quot;: &quot;Y\\u8ef8&quot;}, &quot;lineWidth&quot;: 2}}; var data = [{&quot;data&quot;: [1, 2, 3], &quot;type&quot;: &quot;line&quot;, &quot;name&quot;: &quot;Series 1&quot;}]; option.series = data; var chart = new Highcharts.Chart(option); }); &lt;/script&gt; &lt;/body&gt; &lt;/html&gt;\" height=450 width=450></iframe>"
      ],
      "text/plain": [
       "<highcharts.highcharts.highcharts.Highchart at 0xbf78250>"
      ]
     },
     "execution_count": 12,
     "metadata": {},
     "output_type": "execute_result"
    }
   ],
   "source": [
    "from highcharts import Highchart\n",
    "\n",
    "H = Highchart(width=450, height=450)\n",
    "H.set_options('title', {'text': 'メインタイトル'})\n",
    "H.set_options('subtitle', {'text': 'サブタイトル'})\n",
    "H.set_options('xAxis', {'title': {'text': 'X軸'}})\n",
    "H.set_options('yAxis', {'title': {'text': 'Y軸'}, 'lineWidth': 2})\n",
    "H.add_data_set([1, 2, 3])\n",
    "# オプションの指定\n",
    "# H.add_data_set([1, 2, 3], dashStyle='ShortDash', color='plum', lineWidth=6)\n",
    "H"
   ]
  },
  {
   "cell_type": "markdown",
   "metadata": {},
   "source": [
    "# グラフの種類\n",
    "\n",
    "---\n",
    "\n",
    "highcharts.Highchart.add_data_set()の第二引数にグラフの種類を指定します。各位置パラメータの指定は下記のとおりです。\n",
    "\n",
    "|位置パラメータ|オブジェクト|型|\n",
    "|:-----------:|:------------:|:------------:|\n",
    "|1|データセット|リスト、タプル|\n",
    "|2|グラフの種類|文字列|\n",
    "|3|名前|文字列|\n",
    "\n",
    "下記の例では1番目の要素をdata1という名前の面グラフ、2番めの要素をdata2という名前の棒グラフを出力しています。"
   ]
  },
  {
   "cell_type": "code",
   "execution_count": 13,
   "metadata": {},
   "outputs": [
    {
     "data": {
      "text/html": [
       "<iframe style=\"border:0;outline:none;overflow:hidden\" srcdoc=\"&lt;!DOCTYPE html&gt; &lt;html lang=&quot;en&quot;&gt; &lt;head&gt; &lt;meta charset=&quot;utf-8&quot; /&gt; &lt;link href=&quot;https://www.highcharts.com/highslide/highslide.css&quot; rel=&quot;stylesheet&quot; /&gt; &lt;script type=&quot;text/javascript&quot; src=&quot;https://ajax.googleapis.com/ajax/libs/jquery/1.9.1/jquery.min.js&quot;&gt;&lt;/script&gt; &lt;script type=&quot;text/javascript&quot; src=&quot;https://code.highcharts.com/highcharts.js&quot;&gt;&lt;/script&gt; &lt;script type=&quot;text/javascript&quot; src=&quot;https://code.highcharts.com/highcharts-more.js&quot;&gt;&lt;/script&gt; &lt;script type=&quot;text/javascript&quot; src=&quot;https://code.highcharts.com/modules/heatmap.js&quot;&gt;&lt;/script&gt; &lt;script type=&quot;text/javascript&quot; src=&quot;https://code.highcharts.com/modules/exporting.js&quot;&gt;&lt;/script&gt; &lt;/head&gt; &lt;body style=&quot;margin:0;padding:0&quot;&gt; &lt;div id=&quot;container&quot; style=&quot;width:450px;height:450px;&quot;&gt;Loading....&lt;/div&gt; &lt;script&gt; $(function(){ Highcharts.setOptions({&quot;global&quot;: {}, &quot;lang&quot;: {}}); var option = {&quot;chart&quot;: {&quot;renderTo&quot;: &quot;container&quot;, &quot;width&quot;: 450, &quot;height&quot;: 450}, &quot;colors&quot;: {}, &quot;credits&quot;: {&quot;enabled&quot;: false}, &quot;drilldown&quot;: {}, &quot;exporting&quot;: {}, &quot;labels&quot;: {}, &quot;legend&quot;: {}, &quot;loading&quot;: {}, &quot;navigation&quot;: {}, &quot;pane&quot;: {}, &quot;plotOptions&quot;: {}, &quot;series&quot;: {}, &quot;subtitle&quot;: {}, &quot;title&quot;: {&quot;text&quot;: &quot;A New Highchart&quot;}, &quot;tooltip&quot;: {}, &quot;xAxis&quot;: {}, &quot;yAxis&quot;: {}}; var data = [{&quot;data&quot;: [1, 2, 3], &quot;type&quot;: &quot;area&quot;, &quot;name&quot;: &quot;data1&quot;}, {&quot;data&quot;: [4, 5, 6], &quot;type&quot;: &quot;bar&quot;, &quot;name&quot;: &quot;data2&quot;}]; option.series = data; var chart = new Highcharts.Chart(option); }); &lt;/script&gt; &lt;/body&gt; &lt;/html&gt;\" height=450 width=450></iframe>"
      ],
      "text/plain": [
       "<highcharts.highcharts.highcharts.Highchart at 0xbfa2490>"
      ]
     },
     "execution_count": 13,
     "metadata": {},
     "output_type": "execute_result"
    }
   ],
   "source": [
    "H = Highchart(width=450, height=450)\n",
    "H.add_data_set([1, 2, 3], 'area', 'data1')\n",
    "H.add_data_set([4, 5, 6], 'bar', 'data2')\n",
    "H"
   ]
  },
  {
   "cell_type": "markdown",
   "metadata": {},
   "source": [
    "# ドリルダウン\n",
    "\n",
    "---\n",
    "\n",
    "グラフの要素をクリックすると、更に別なグラフが表示されます。\n",
    "\n",
    "highcharts.Highchart.add_data_set()の各要素に辞書型のデータを渡します。\n",
    "\n",
    "辞書のキーにdrilldown、値にドリルダウンに対応する名前を設定します。\n",
    "\n",
    "ドリルダウン後の要素の指定はhighcharts.Highchart.add_drilldown_data_set()に前述した位置パラメータの3つの引数を指定します。\n",
    "\n",
    "3つ目の名前と上位の要素を対応させます。\n",
    "\n",
    "日本語を使う場合はunicode指定してください。"
   ]
  },
  {
   "cell_type": "code",
   "execution_count": 23,
   "metadata": {},
   "outputs": [
    {
     "data": {
      "text/html": [
       "<iframe style=\"border:0;outline:none;overflow:hidden\" srcdoc=\"&lt;!DOCTYPE html&gt; &lt;html lang=&quot;en&quot;&gt; &lt;head&gt; &lt;meta charset=&quot;utf-8&quot; /&gt; &lt;link href=&quot;https://www.highcharts.com/highslide/highslide.css&quot; rel=&quot;stylesheet&quot; /&gt; &lt;script type=&quot;text/javascript&quot; src=&quot;https://ajax.googleapis.com/ajax/libs/jquery/1.9.1/jquery.min.js&quot;&gt;&lt;/script&gt; &lt;script type=&quot;text/javascript&quot; src=&quot;https://code.highcharts.com/highcharts.js&quot;&gt;&lt;/script&gt; &lt;script type=&quot;text/javascript&quot; src=&quot;https://code.highcharts.com/highcharts-more.js&quot;&gt;&lt;/script&gt; &lt;script type=&quot;text/javascript&quot; src=&quot;https://code.highcharts.com/modules/heatmap.js&quot;&gt;&lt;/script&gt; &lt;script type=&quot;text/javascript&quot; src=&quot;https://code.highcharts.com/modules/exporting.js&quot;&gt;&lt;/script&gt; &lt;script type=&quot;text/javascript&quot; src=&quot;http://code.highcharts.com/modules/drilldown.js&quot;&gt;&lt;/script&gt; &lt;/head&gt; &lt;body style=&quot;margin:0;padding:0&quot;&gt; &lt;div id=&quot;container&quot; style=&quot;&quot;&gt;Loading....&lt;/div&gt; &lt;script&gt; $(function(){ Highcharts.setOptions({&quot;global&quot;: {}, &quot;lang&quot;: {}}); var option = {&quot;chart&quot;: {&quot;renderTo&quot;: &quot;container&quot;}, &quot;colors&quot;: {}, &quot;credits&quot;: {&quot;enabled&quot;: false}, &quot;drilldown&quot;: {}, &quot;exporting&quot;: {}, &quot;labels&quot;: {}, &quot;legend&quot;: {}, &quot;loading&quot;: {}, &quot;navigation&quot;: {}, &quot;pane&quot;: {}, &quot;plotOptions&quot;: {}, &quot;series&quot;: {}, &quot;subtitle&quot;: {}, &quot;title&quot;: {&quot;text&quot;: &quot;A New Highchart&quot;}, &quot;tooltip&quot;: {}, &quot;xAxis&quot;: {}, &quot;yAxis&quot;: {}}; var data = [{&quot;data&quot;: [{&quot;y&quot;: 100, &quot;drilldown&quot;: &quot;\\u4e8b\\u696d\\u672c\\u90e8&quot;}, {&quot;y&quot;: 2, &quot;drilldown&quot;: &quot;b&quot;}, {&quot;y&quot;: 3, &quot;drilldown&quot;: &quot;c&quot;}], &quot;type&quot;: &quot;column&quot;, &quot;name&quot;: &quot;Series 1&quot;}]; option.series = data; var drilldowndata = [{&quot;data&quot;: [0.3, 0.4, 0.5], &quot;type&quot;: &quot;pie&quot;, &quot;id&quot;: &quot;\\u4e8b\\u696d\\u672c\\u90e8&quot;}, {&quot;data&quot;: [4, 5, 6], &quot;type&quot;: &quot;line&quot;, &quot;id&quot;: &quot;b&quot;}, {&quot;data&quot;: [7, 8, 9], &quot;type&quot;: &quot;area&quot;, &quot;id&quot;: &quot;c&quot;}]; option.drilldown.series = drilldowndata; var chart = new Highcharts.Chart(option); }); &lt;/script&gt; &lt;/body&gt; &lt;/html&gt;\" height=520 width=820></iframe>"
      ],
      "text/plain": [
       "<highcharts.highcharts.highcharts.Highchart at 0x867e370>"
      ]
     },
     "execution_count": 23,
     "metadata": {},
     "output_type": "execute_result"
    }
   ],
   "source": [
    "H = Highchart()\n",
    "data = [{\n",
    "    'y': 100,\n",
    "    'drilldown': u'事業本部'\n",
    "}, {\n",
    "    'y': 2,\n",
    "    'drilldown': 'b'\n",
    "}, {\n",
    "    'y': 3,\n",
    "    'drilldown': 'c'\n",
    "}]\n",
    "H.add_data_set(data, 'column')\n",
    "H.add_drilldown_data_set([0.3, 0.4, 0.5], 'pie', u'事業本部')\n",
    "H.add_drilldown_data_set([4, 5, 6], 'line', 'b')\n",
    "H.add_drilldown_data_set([7, 8, 9], 'area', 'c')\n",
    "H"
   ]
  },
  {
   "cell_type": "markdown",
   "metadata": {
    "collapsed": true
   },
   "source": [
    "# pandas_highchartの利用\n",
    "\n",
    "---\n",
    "\n",
    "pandas_highcharts.display.display_chartsにpandas.DataFrame.plot()と同じ引数を渡すだけでグラフを出力することができます。"
   ]
  },
  {
   "cell_type": "code",
   "execution_count": 15,
   "metadata": {},
   "outputs": [
    {
     "data": {
      "text/html": [
       "<div id=\"chart_idVNDlYVCC\"</div>\n",
       "    <script type=\"text/javascript\">new Highcharts.Chart({\"chart\":{\"renderTo\":\"chart_idVNDlYVCC\",\"width\":450,\"height\":450},\"legend\":{\"enabled\":true},\"series\":[{\"name\":0,\"yAxis\":0,\"data\":[[\"a\",1],[\"b\",2],[\"c\",3]]}],\"xAxis\":{\"categories\":[\"a\",\"b\",\"c\"]},\"yAxis\":[{}]});</script>"
      ],
      "text/plain": [
       "<IPython.core.display.HTML object>"
      ]
     },
     "metadata": {},
     "output_type": "display_data"
    }
   ],
   "source": [
    "import pandas as pd\n",
    "from pandas_highcharts.display import display_charts\n",
    "\n",
    "df = pd.DataFrame([1, 2, 3], index=[list('abc')])\n",
    "display_charts(df, figsize=(450, 450))"
   ]
  },
  {
   "cell_type": "code",
   "execution_count": 16,
   "metadata": {},
   "outputs": [
    {
     "data": {
      "text/html": [
       "<div id=\"chart_idAcglfYSM\"</div>\n",
       "    <script type=\"text/javascript\">new Highcharts.Chart({\"chart\":{\"renderTo\":\"chart_idAcglfYSM\",\"width\":450,\"height\":450},\"legend\":{\"enabled\":true},\"series\":[{\"name\":\"A\",\"yAxis\":0,\"data\":[[1493596800000,-0.3359270484],[1493683200000,-1.5043920103],[1493769600000,-0.9591832695],[1493856000000,1.0112703922],[1493942400000,0.5525999816],[1494028800000,0.0499649127]]},{\"name\":\"B\",\"yAxis\":0,\"data\":[[1493596800000,-0.759595847],[1493683200000,1.215445234],[1493769600000,0.0424709922],[1493856000000,0.5806256722],[1493942400000,1.0390542938],[1494028800000,0.0161090036]]},{\"name\":\"C\",\"yAxis\":0,\"data\":[[1493596800000,-0.4031990061],[1493683200000,-0.2221436025],[1493769600000,0.8546439651],[1493856000000,1.1819444565],[1493942400000,0.2032497937],[1494028800000,1.3236680383]]},{\"name\":\"D\",\"yAxis\":0,\"data\":[[1493596800000,0.07216775],[1493683200000,-0.7159895708],[1493769600000,-1.4357036763],[1493856000000,-0.4870781247],[1493942400000,-0.8303631901],[1494028800000,1.1976312113]]}],\"xAxis\":{\"type\":\"datetime\"},\"yAxis\":[{}]});</script>"
      ],
      "text/plain": [
       "<IPython.core.display.HTML object>"
      ]
     },
     "metadata": {},
     "output_type": "display_data"
    }
   ],
   "source": [
    "dates = pd.date_range(\"20170501\", periods=6)\n",
    "df2 = pd.DataFrame(np.random.randn(6,4),index = dates, columns = list(\"ABCD\"))\n",
    "display_charts(df2, figsize=(450, 450))"
   ]
  },
  {
   "cell_type": "code",
   "execution_count": null,
   "metadata": {
    "collapsed": true
   },
   "outputs": [],
   "source": []
  },
  {
   "cell_type": "code",
   "execution_count": null,
   "metadata": {
    "collapsed": true
   },
   "outputs": [],
   "source": []
  },
  {
   "cell_type": "code",
   "execution_count": null,
   "metadata": {
    "collapsed": true
   },
   "outputs": [],
   "source": []
  }
 ],
 "metadata": {
  "kernelspec": {
   "display_name": "Python 3",
   "language": "python",
   "name": "python3"
  },
  "language_info": {
   "codemirror_mode": {
    "name": "ipython",
    "version": 3
   },
   "file_extension": ".py",
   "mimetype": "text/x-python",
   "name": "python",
   "nbconvert_exporter": "python",
   "pygments_lexer": "ipython3",
   "version": "3.6.1"
  }
 },
 "nbformat": 4,
 "nbformat_minor": 1
}
